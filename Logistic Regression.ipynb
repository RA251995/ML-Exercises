{
 "cells": [
  {
   "cell_type": "markdown",
   "metadata": {},
   "source": [
    "# Logistic Regression"
   ]
  },
  {
   "cell_type": "markdown",
   "metadata": {},
   "source": [
    "Find a classifier which maps the input(s) into two output classes.\n",
    "\n",
    "Mathematically,\\\n",
    "Given, \n",
    "$$\\begin{align}\n",
    "X &= [x^{(1)} x^{(2)} \\ldots x^{(m)}] \\\\\n",
    "y &= [y^{(1)} y^{(2)} \\ldots y^{(m)}] \\;\\; y^{(j)} \\in \\{0,1\\}\n",
    "\\end{align}$$\n",
    "and a logistic model,\n",
    "$$\\hat{y} = f(X) = \\sigma(\\theta^{T}X) \\textrm{ with } 0 \\leq \\hat{y} \\leq 1$$\n",
    "Find parmeters $\\theta$ such that the $\\hat{y}$ is maximized given $y=1$ and $\\hat{y}$ is minimized given $y=0$.\n",
    "\n",
    "Also,\n",
    "$$\\hat{y} = P\\left(y=1|X; \\theta \\right) = 1-P\\left(y=0|X; \\theta \\right)$$"
   ]
  },
  {
   "cell_type": "code",
   "execution_count": 1,
   "metadata": {},
   "outputs": [],
   "source": [
    "%matplotlib inline\n",
    "\n",
    "import numpy as np\n",
    "import matplotlib.pyplot as plt"
   ]
  },
  {
   "cell_type": "markdown",
   "metadata": {},
   "source": [
    "### Sigmoid Function\n",
    "\n",
    "$$ \\sigma(z) = \\frac{1}{1+e^{-z}} $$"
   ]
  },
  {
   "cell_type": "code",
   "execution_count": 2,
   "metadata": {},
   "outputs": [],
   "source": [
    "def sigmoid(z):\n",
    "    \"\"\"\n",
    "    Calculates element-wise sigmoid of given input array\n",
    "    \n",
    "        Parameters:\n",
    "            z (numpy array)    : r x c input array\n",
    "        Returns\n",
    "            sigma (numpy array): Element-wise sigmoid r x c array  \n",
    "    \"\"\"\n",
    "    sigma = 1/(1+np.exp(-z))\n",
    "    return sigma"
   ]
  },
  {
   "cell_type": "code",
   "execution_count": 3,
   "metadata": {},
   "outputs": [
    {
     "data": {
      "text/plain": [
       "Text(0.5,1,'Sigmoid Function')"
      ]
     },
     "execution_count": 3,
     "metadata": {},
     "output_type": "execute_result"
    },
    {
     "data": {
      "image/png": "[encoded data removed]",
      "text/plain": [
       "<Figure size 432x288 with 1 Axes>"
      ]
     },
     "metadata": {
      "needs_background": "light"
     },
     "output_type": "display_data"
    }
   ],
   "source": [
    "z = np.linspace(-6,6,100)\n",
    "sigma = sigmoid(z)\n",
    "plt.plot(z,sigma)\n",
    "plt.grid()\n",
    "plt.xlabel('z')\n",
    "plt.ylabel('$\\sigma$')\n",
    "plt.title('Sigmoid Function')"
   ]
  },
  {
   "cell_type": "markdown",
   "metadata": {},
   "source": [
    "### Logistic Regression Cost Function\n",
    "$$\\begin{align}\n",
    "\\hat{y}^{(j)} &= \\sigma(z^{(j)}) \\\\\n",
    "z^{(j)} &= \\theta_1 x^{(j)}_1 + \\theta_2 x^{(j)}_2 + \\ldots + \\theta_n x^{(j)}_n\n",
    "\\end{align}$$\n",
    "$$J(\\theta) = \\frac{1}{m}\\sum_{j=1}^{m}\\left[-y^{(j)}\\log{\\hat{y}^{(j)}}-\\left(1-y^{(j)}\\right)\\log\\left(1-\\hat{y}^{(j)}\\right)\\right]$$"
   ]
  },
  {
   "cell_type": "code",
   "execution_count": 4,
   "metadata": {},
   "outputs": [],
   "source": [
    "def computeCost(X, y, theta):\n",
    "    '''\n",
    "    Computes cost and estimated output for logistic regression.\n",
    "    \n",
    "        Parameters:\n",
    "            X (numpy array)    : n x m input features matrix (n: number of parameters, m: number of examples)\n",
    "            y (numpy array)    : 1 x m output row vector with each element 0 or 1 \n",
    "            theta (numpy array): n x 1 parameter column vector\n",
    "        Returns:\n",
    "            J (double)         : Cost\n",
    "            y_hat (double)     : Estimated output\n",
    "    '''\n",
    "    y_hat = sigmoid(np.dot(theta.T, X))\n",
    "    J = 1/m*(-np.sum(np.log(y_hat[y==1]))-np.sum(np.log(1-y_hat[y==0])))\n",
    "    return (J, y_hat)"
   ]
  },
  {
   "cell_type": "markdown",
   "metadata": {},
   "source": [
    "### Gradient Descent for Logistic Regression\n",
    "\n",
    "$$\\theta_i := \\theta_i - \\alpha \\frac{\\partial J}{\\partial \\theta_i}$$\n",
    "$$\\begin{align}\n",
    "\\frac{\\partial J}{\\partial \\theta_i} &= \\frac{1}{m} \\sum_{j=1}^{m} \\left[-y^{(j)}\\frac{1}{\\hat{y}^{(j)}}\\frac{\\partial \\hat{y}^{(j)}}{\\partial \\theta_i} + \\left(1-y^{(j)}\\right)\\frac{1}{1-\\hat{y}^{(j)}}\\frac{\\partial \\hat{y}^{(j)}}{\\partial \\theta_i}\\right] \\\\\n",
    "\\frac{\\partial J}{\\partial \\theta_i} &= \\frac{1}{m} \\sum_{j=1}^{m} \\left[\\left(-\\frac{y^{(j)}}{\\hat{y}^{(j)}} + \\frac{1-y^{(j)}}{1-\\hat{y}^{(j)}}\\right)\\frac{\\partial \\hat{y}^{(j)}}{\\partial \\theta_i}\\right]\n",
    "\\end{align}$$\n",
    "---\n",
    "$$\\begin{align}\n",
    "\\frac{\\partial \\hat{y}^{(j)}}{\\partial \\theta_i} &= \\sigma '\\left(z^{(j)}\\right) \\frac{\\partial z^{(j)}}{\\partial \\theta_i} \\\\\n",
    "                                                 &= \\sigma \\left(z^{(j)}\\right)\\left(1-\\sigma \\left(z^{(j)}\\right)\\right) x_i^{(j)}\\\\\n",
    "\\frac{\\partial \\hat{y}^{(j)}}{\\partial \\theta_i} &= \\hat{y}^{(j)}\\left(1-\\hat{y}^{(j)}\\right) x_i^{(j)}\\\\\n",
    "\\end{align}$$\n",
    "\n",
    "---\n",
    "$$\\begin{align}\n",
    "\\frac{\\partial J}{\\partial \\theta_i} &= \\frac{1}{m} \\sum_{j=1}^{m} \\left[-y^{(j)}\\left(1-\\hat{y}^{(j)}\\right) + \\left(1-y^{(j)}\\right)\\hat{y}^{(j)}\\right]x_i^{(j)}\\\\\n",
    "\\frac{\\partial J}{\\partial \\theta_i} &= \\frac{1}{m} \\sum_{j=1}^{m} \\left( \\hat{y}^{(j)}-y^{(j)} \\right) x_i^{(j)}\n",
    "\\end{align}$$\n",
    "\n",
    "#### Vectorization of Gradient Descent for Logistic Regression (Same as Linear Regression)\n",
    "$$D\\theta = \\frac{1}{m} X(\\hat{y}-y)^T \\\\\n",
    "\\theta := \\theta - \\alpha D\\theta$$"
   ]
  },
  {
   "cell_type": "code",
   "execution_count": 5,
   "metadata": {},
   "outputs": [],
   "source": [
    "def gradientDescent(X, y, theta, alpha, n_iterations):\n",
    "    \"\"\"\n",
    "    Performs gradient descent for number of iterations\n",
    "    \n",
    "        Parameters:\n",
    "            X (numpy array)    : n x m input features matrix (n: number of parameters, m: number of examples)\n",
    "            y (numpy array)    : 1 x m output row vector with each element 0 or 1\n",
    "            theta (numpy array): n x 1 parameter column vector\n",
    "            alpha (double)     : Learning rate (Hyperparameter)\n",
    "            n_iterations (int) : No. of iterations (Hyperparamter)\n",
    "            verbose (boolean)  : Whether to print cost at every 10^4 iterations\n",
    "        Returns:\n",
    "            theta (numpy array)    : Modified n x 1 parameter column vector\n",
    "            J_iterations (list)    : Cost over n_iterations \n",
    "    \"\"\"\n",
    "    J_iterations = []\n",
    "    for k in range(n_iterations):\n",
    "        # Compute cost and estimated value\n",
    "        J, y_hat = computeCost(X, y, theta)\n",
    "        \n",
    "        # Save cost every 1e4 iteration\n",
    "        if k % 10_000 == 0:\n",
    "            J_iterations.append(J)\n",
    "            print(\"Iteration #{:,}\".format(k), \"| Cost:\", J, end='\\r')\n",
    "        \n",
    "        # Calculate gradients\n",
    "        D_theta = 1/m * np.dot(X, (y_hat-y).T)\n",
    "        \n",
    "        # Update parameters\n",
    "        theta = theta - alpha*D_theta\n",
    "    print(\"Iteration #\"+str(k+1), \"| Cost:\", J)\n",
    "    \n",
    "    return (theta, J_iterations)"
   ]
  },
  {
   "cell_type": "markdown",
   "metadata": {},
   "source": [
    "### 2D Logistic Regression"
   ]
  },
  {
   "cell_type": "code",
   "execution_count": 6,
   "metadata": {},
   "outputs": [],
   "source": [
    "def plotData(X, y):\n",
    "    '''\n",
    "    Plots Exam 1 score v/s Exam 2 score with pass/fail represented by color. \n",
    "    \n",
    "        Parameters:\n",
    "            X (list or numpy array): 3 x m array with each column as [Exam1Score; Exam2Score; 1]\n",
    "            y (list or numpy array): 0 - Fail or 1 - Pass\n",
    "        Returns:\n",
    "            None\n",
    "    '''\n",
    "    plt.figure()\n",
    "    X1_pos, X2_pos = X[1,y.squeeze()==1], X[2,y.squeeze()==1]\n",
    "    X1_neg, X2_neg = X[1,y.squeeze()==0], X[2,y.squeeze()==0]\n",
    "    plt.scatter(X1_pos, X2_pos, marker='+')\n",
    "    plt.scatter(X1_neg, X2_neg, marker='x')\n",
    "    plt.xlabel('Exam 1 Score')\n",
    "    plt.ylabel('Exam 2 Score')"
   ]
  },
  {
   "cell_type": "code",
   "execution_count": 7,
   "metadata": {},
   "outputs": [
    {
     "data": {
      "image/png": "[encoded data removed]",
      "text/plain": [
       "<Figure size 432x288 with 1 Axes>"
      ]
     },
     "metadata": {
      "needs_background": "light"
     },
     "output_type": "display_data"
    }
   ],
   "source": [
    "# Load and preprocess data\n",
    "data = np.genfromtxt('data_classification_2d.csv', delimiter=',')\n",
    "m, n = data.shape\n",
    "X = (data[:,0:-1].T).reshape((n-1,m))\n",
    "y = data[:,-1].reshape((1,m))\n",
    "# Append a row of ones for bias parameter\n",
    "X = np.append(np.ones((1,m)), X, axis=0)\n",
    "\n",
    "# Plot data\n",
    "plotData(X, y)"
   ]
  },
  {
   "cell_type": "code",
   "execution_count": 8,
   "metadata": {},
   "outputs": [
    {
     "name": "stdout",
     "output_type": "stream",
     "text": [
      "Iteration #5000000 | Cost: 0.2037841977492201648\n",
      "Wall time: 3min 54s\n"
     ]
    }
   ],
   "source": [
    "%%time\n",
    "\n",
    "# Initialize parameters\n",
    "theta = np.zeros((n,1))\n",
    "\n",
    "# Set hyperparameters\n",
    "alpha = 0.00125\n",
    "n_iterations = 5_000_000\n",
    "\n",
    "# Run gradient descent\n",
    "theta, J_iterations = gradientDescent(X, y, theta, alpha, n_iterations)"
   ]
  },
  {
   "cell_type": "code",
   "execution_count": 9,
   "metadata": {},
   "outputs": [
    {
     "data": {
      "text/plain": [
       "Text(0.5,0,'Iteration')"
      ]
     },
     "execution_count": 9,
     "metadata": {},
     "output_type": "execute_result"
    },
    {
     "data": {
      "image/png": "[encoded data removed]",
      "text/plain": [
       "<Figure size 432x288 with 1 Axes>"
      ]
     },
     "metadata": {
      "needs_background": "light"
     },
     "output_type": "display_data"
    }
   ],
   "source": [
    "plt.plot(J_iterations)\n",
    "plt.ylabel(\"Cost\")\n",
    "plt.xlabel(\"Iteration\")"
   ]
  },
  {
   "cell_type": "code",
   "execution_count": 10,
   "metadata": {},
   "outputs": [
    {
     "name": "stdout",
     "output_type": "stream",
     "text": [
      "theta: [-23.8057683    0.19539129   0.19050134]\n"
     ]
    }
   ],
   "source": [
    "theta = theta.squeeze()\n",
    "print(\"theta:\", theta)"
   ]
  },
  {
   "cell_type": "markdown",
   "metadata": {},
   "source": [
    "### Plot Decision Boundary"
   ]
  },
  {
   "cell_type": "code",
   "execution_count": 11,
   "metadata": {},
   "outputs": [
    {
     "data": {
      "text/plain": [
       "[<matplotlib.lines.Line2D at 0x296249fab70>]"
      ]
     },
     "execution_count": 11,
     "metadata": {},
     "output_type": "execute_result"
    },
    {
     "data": {
      "text/plain": [
       "<Figure size 432x288 with 0 Axes>"
      ]
     },
     "metadata": {},
     "output_type": "display_data"
    },
    {
     "data": {
      "image/png": "[encoded data removed]",
      "text/plain": [
       "<Figure size 432x288 with 1 Axes>"
      ]
     },
     "metadata": {
      "needs_background": "light"
     },
     "output_type": "display_data"
    }
   ],
   "source": [
    "plt.figure()\n",
    "plotData(X,y)\n",
    "\n",
    "x1_decision = np.array([25, 100])\n",
    "x2_decision = -1/theta[2]*(theta[0]+theta[1]*x1_decision)\n",
    "plt.plot(x1_decision, x2_decision, 'r')"
   ]
  }
 ],
 "metadata": {
  "kernelspec": {
   "display_name": "Python 3",
   "language": "python",
   "name": "python3"
  },
  "language_info": {
   "codemirror_mode": {
    "name": "ipython",
    "version": 3
   },
   "file_extension": ".py",
   "mimetype": "text/x-python",
   "name": "python",
   "nbconvert_exporter": "python",
   "pygments_lexer": "ipython3",
   "version": "3.6.4"
  }
 },
 "nbformat": 4,
 "nbformat_minor": 4
}
