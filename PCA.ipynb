{
 "cells": [
  {
   "cell_type": "markdown",
   "metadata": {},
   "source": [
    "# Principal Component Analysis"
   ]
  },
  {
   "cell_type": "markdown",
   "metadata": {},
   "source": [
    "### Problem Definition"
   ]
  },
  {
   "cell_type": "markdown",
   "metadata": {},
   "source": [
    "Given $N$ vectors, $X = \\{\\mathbf{x}_1 \\cdots \\mathbf{x}_N\\} $, $\\mathbf{x}_n \\in \\mathbb{R}^D$, find lower dimensional representation of each $\\mathbf{x}_n$, $\\tilde{\\mathbf{x}}_n$ such that reconstruction error of $\\mathbf{x}_n$ from $\\tilde{\\mathbf{x}}_n$ is minimized.\n",
    "\\par Each vector, $\\mathbf{x}_n$ in $\\mathbb{R}^D$ can be represented as,\n",
    "$$\\mathbf{x}_n = \\sum_{i=1}^{D} \\beta_{in}\\mathbf{b}_i$$ \n",
    "where $\\mathbf{b}_i$ is the $i$-th **orthonormal basis** of $\\mathbb{R}^D$ and $\\beta_{in}$ is the projection of $\\mathbf{x}_n$ onto subspace spanned by $\\mathbf{b}_i$.\n",
    "\n",
    "Representation of $\\mathbf{x}_n$ in an $M$-dimensional subspace of $\\mathbb{R}^D, \\tilde{\\mathbf{x}}_n$,  can be obtained as, \n",
    "\\begin{align}\n",
    "\\label{xn}\n",
    "\\mathbf{x}_n &= \\sum_{i=1}^{M} \\beta_{in}\\mathbf{b}_i + \\sum_{i=M+1}^{D} \\beta_{jn}\\mathbf{b}_j \\\\\n",
    "\\tilde{\\mathbf{x}}_n &= \\sum_{i=1}^{M} \\beta_{in}\\mathbf{b}_i\n",
    "\\end{align}\n",
    "\n",
    "Here, the vector space spanned by $\\mathbf{b}_1 \\cdots \\mathbf{b}_M$ is called principal subspace, if the first $M$ basis vectors are selected appropriately and the vector space spanned by $\\mathbf{b}_{M+1} \\cdots \\mathbf{b}_D$ is called orthogonal complement of principal subspace.\n",
    "\n",
    "Thus, $\\tilde{\\mathbf{x}}_n$ is a $D$-dimensional vector lying in $M$-dimensional subspace of $\\mathbb{R}^D$ and requires only $M$ coordinates, $\\beta_{1n} \\cdots \\beta_{1M}$ with respect to $M$ basis vectors, $\\mathbf{b}_1 \\cdots \\mathbf{b}_M$.\n",
    "\n",
    "To find $\\tilde{\\mathbf{x}}_n$, we need to find $\\beta_{in}$ and $\\mathbf{b}_i$ such that the average squared reconstruction error, $J$ is minimized.\n",
    "\\begin{equation}\n",
    "J = \\frac{1}{N}\\sum_{n=1}^{N}{\\lVert \\textbf{x}_n - \\tilde{\\textbf{x}}_n \\rVert}^2\n",
    "\\end{equation}\n",
    "$$\\frac{\\partial J}{\\partial (\\beta_{in}, \\mathbf{b}_i)} = \\frac{\\partial J}{\\partial \\tilde{\\mathbf{x}}_n} \\frac{\\partial \\tilde{\\mathbf{x}}_n}{\\partial (\\beta_{in}, \\mathbf{b}_i)}$$\n",
    "where,\n",
    "\\begin{align}\n",
    "\\frac{\\partial J}{\\partial \\tilde{\\mathbf{x}}_n} &= -\\frac{2}{N}(\\mathbf{x}_n - \\tilde{\\mathbf{x}}_n)^T \\\\\n",
    "\\frac{\\partial \\tilde{\\mathbf{x}}_n}{\\partial \\beta_{in}} &= \\mathbf{b}_i\n",
    "\\end{align}\n"
   ]
  },
  {
   "cell_type": "markdown",
   "metadata": {},
   "source": [
    "### Optimal Projection Parameters, $\\beta_{in}$"
   ]
  },
  {
   "cell_type": "markdown",
   "metadata": {},
   "source": [
    "$$\\frac{\\partial J}{\\partial \\beta_{in}} = 0$$\n",
    "\\begin{align*}\n",
    "\\frac{\\partial J}{\\partial \\beta_{in}} &= \\frac{\\partial J}{\\partial \\tilde{\\mathbf{x}}_n} \\frac{\\partial \\tilde{\\mathbf{x}}_n}{\\partial \\beta_{in}} \\\\\n",
    "&= -\\frac{2}{N}(\\mathbf{x}_n - \\tilde{\\mathbf{x}}_n)^T \\mathbf{b}_i \\\\\n",
    "&= -\\frac{2}{N}\\left( \\mathbf{x}_n - \\sum_{j=1}^{M} \\beta_{jn}\\mathbf{b}_j \\right)^T \\mathbf{b}_i \\\\\n",
    "&= -\\frac{2}{N}\\left( \\mathbf{x}_n^T\\mathbf{b}_i - \\beta_{in}\\mathbf{b}_i^T \\mathbf{b}_i \\right) & \\textrm{($\\because \\mathbf{b}_j$s are orthonormal vectors)}\\\\\n",
    "\\frac{\\partial J}{\\partial \\beta_{in}} &= -\\frac{2}{N}\\left( \\mathbf{x}_n^T\\mathbf{b}_i - \\beta_{in} \\right) &\\textrm{($\\because \\mathbf{b}_i$ is orthonormal vector)}\n",
    "\\end{align*}\n",
    "$$-\\frac{2}{N}\\left( \\mathbf{x}_n^T\\mathbf{b}_i - \\beta_{in} \\right) = 0 $$\n",
    "\\begin{align*}\n",
    "\\implies \\beta_{in} = \\mathbf{x}_n^T\\mathbf{b}_i = \\mathbf{b}_i^T\\mathbf{x}_n\n",
    "\\end{align*}\n",
    "\n",
    "$$\\tilde{\\mathbf{x}}_n = \\sum_{i=1}^{M} \\mathbf{b}_i \\beta_{in} $$\n",
    "\\begin{equation}\n",
    "\\tilde{\\mathbf{x}}_n = \\left( \\sum_{i=1}^{M} \\mathbf{b}_i\\mathbf{b}_i^T \\right) \\mathbf{x}_n\n",
    "\\end{equation}\n",
    "\n",
    "In matrix form, if $\\mathbf{X} = \\begin{bmatrix}\n",
    "\\mathbf{x}_1 & \\cdots & \\mathbf{x}_N\n",
    "\\end{bmatrix}_{D \\times N}$ and $\\mathbf{B} = \\begin{bmatrix}\n",
    "\\mathbf{b}_1 & \\cdots & \\mathbf{b}_M\n",
    "\\end{bmatrix}_{D \\times M}$,\n",
    "$$\\pmb{\\beta}_{M \\times N} = \\mathbf{B}^T\\mathbf{X}$$\n",
    "\\begin{align*}\n",
    "\\textrm{Code, } \\mathbf{\\tilde{X}}_{D \\times N} &= \\mathbf{B}\\pmb{\\beta} \\\\\n",
    "\\mathbf{\\tilde{X}} &= \\mathbf{B}\\mathbf{B}^T\\mathbf{X}\n",
    "\\end{align*}"
   ]
  },
  {
   "cell_type": "markdown",
   "metadata": {},
   "source": [
    "### Objective Reformulation"
   ]
  },
  {
   "cell_type": "markdown",
   "metadata": {},
   "source": [
    "\\begin{align*}\n",
    "\\mathbf{x}_n &= \\left( \\sum_{i=1}^{M} \\mathbf{b}_i\\mathbf{b}_i^T \\right) \\mathbf{x}_n + \\left( \\sum_{j=M+1}^{D} \\mathbf{b}_j\\mathbf{b}_j^T \\right) \\mathbf{x}_n \\\\\n",
    "\\mathbf{x}_n - \\tilde{\\mathbf{x}}_n &= \\left( \\sum_{j=M+1}^{D} \\mathbf{b}_j\\mathbf{b}_j^T \\right) \\mathbf{x}_n \\\\\n",
    "&= \\sum_{j=M+1}^{D} (\\mathbf{b}_j^T \\mathbf{x}_n) \\mathbf{b}_j\n",
    "\\end{align*}\n",
    "\n",
    "\\begin{align*}\n",
    "J &= \\frac{1}{N}\\sum_{n=1}^{N}{\\left\\lVert \\sum_{j=M+1}^{D} (\\mathbf{b}_j^T \\mathbf{x}_n) \\mathbf{b}_j \\right\\rVert}^2  \\\\\n",
    "&= \\frac{1}{N}\\sum_{n=1}^{N} \\sum_{j=M+1}^{D} (\\mathbf{b}_j^T \\mathbf{x}_n)^2 &\\textrm{($\\because \\mathbf{b}_j$ forms orthonormal basis)} \\\\\n",
    "&= \\frac{1}{N}\\sum_{n=1}^{N} \\sum_{j=M+1}^{D} \\mathbf{b}_j^T \\mathbf{x}_n \\mathbf{x}_n^T \\mathbf{b}_j \\\\\n",
    "&= \\sum_{j=M+1}^{D} \\mathbf{b}_j^T \\left( \\frac{1}{N}\\sum_{n=1}^{N} \\mathbf{x}_n \\mathbf{x}_n^T \\right) \\mathbf{b}_j\n",
    "\\end{align*}\n",
    "\n",
    "\\begin{equation}\n",
    "\\label{J_2}\n",
    "J = \\sum_{j=M+1}^{D} \\mathbf{b}_j^T \\mathbf{S} \\mathbf{b}_j = trace \\left( \\left( \\sum_{j=M+1}^{D} \\mathbf{b}_j^T \\mathbf{b}_j \\right) \\mathbf{S} \\right)\n",
    "\\end{equation}\n",
    "\n",
    "where $\\mathbf{S}$ is the**Data Covariance Matrix** if data is centered ($\\mathbf{E}[\\mathbf{X}] = \\mathbf{0}$) and $\\sum_{j=M+1}^{D} \\mathbf{b}_j^T \\mathbf{b}_j$ is the Projection Matrix which projects $\\mathbf{S}$ onto orthogonal complement of principal subspace.\n",
    "\n",
    "Thus, minimizing $J$ is equivalent to minimizing variance of data lying in orthogonal complement of principal subspace or retaining maximum variance in principal subspace after projection."
   ]
  },
  {
   "cell_type": "markdown",
   "metadata": {},
   "source": [
    "### Optimal Basis Vectors, $\\mathbf{b}_i$"
   ]
  },
  {
   "cell_type": "markdown",
   "metadata": {},
   "source": [
    "Consider the two-dimensional case with orthonormal basis vectors $\\mathbf{b}_1, \\mathbf{b}_2 \\in \\mathbb{R}^2$ with $\\mathbf{b}_1$ spanning principal subspace and $\\mathbf{b}_2$ spanning orthogonal complement.\n",
    "\n",
    "$$J = \\mathbf{b}_2^T S \\mathbf{b}_2$$\n",
    "$$\\mathbf{b}_2^T \\mathbf{b}_2 = 1$$\n",
    "By method of Lagrange multipliers,\n",
    "$$\\mathcal{L} = \\mathbf{b}_2^T S \\mathbf{b}_2 + \\lambda(1-\\mathbf{b}_2^T \\mathbf{b}_2)$$\n",
    "\\begin{align*}\n",
    "\\frac{\\partial \\mathcal{L}}{\\partial \\lambda} &= 1-\\mathbf{b}_2^T \\mathbf{b}_2 = 0 \\\\\n",
    "&\\iff \\mathbf{b}_2^T \\mathbf{b}_2 = 1 \\\\\n",
    "\\frac{\\partial \\mathcal{L}}{\\partial \\mathbf{b}_2} &= 2\\mathbf{b}_2^T S - 2\\lambda\\mathbf{b}_2^T \\\\\n",
    "&\\iff \\mathbf{S}\\mathbf{b}_2 = \\lambda\\mathbf{b}_2\n",
    "\\end{align*}\n",
    "\n",
    "Thus, $\\mathbf{b}_2$ is the eigen vector of $\\mathbf{S}$ with eigen value, $\\lambda$.\n",
    "\n",
    "$$J = \\mathbf{b}_2^T\\lambda\\mathbf{b}_2 = \\lambda\\mathbf{b}_2^T\\mathbf{b}_2 = \\lambda$$\n",
    "\n",
    "Generally,\n",
    "$$\\mathbf{S} = \\lambda_j \\mathbf{b}_j, j=M+1 \\cdots D$$\n",
    "$$J = \\sum_{j=M+1}^{D}\\lambda_j$$\n",
    "\n",
    "Since eigen vectors of $\\mathbf{S}$ is orthogonal (because of symmetry of $\\mathbf{S}$), minimizing $J$ implies finding eigen vectors with minimum eigen values that spans orthogonal complement of principal subspace or finding eigen vectors with maximum eigen values that spans principal subspace.\n",
    "\n",
    "Thus eigen vector with largest eigen value points in the direction of data with maximum variance, given by the eigen value itself."
   ]
  },
  {
   "cell_type": "markdown",
   "metadata": {},
   "source": [
    "### Summary of Steps"
   ]
  },
  {
   "cell_type": "markdown",
   "metadata": {},
   "source": [
    "1. Center and normalize data w.r.t. each dimension, $d$,  $\\mathbf{X}_*^{(d)} = \\frac{{\\mathbf{X}}^{(d)} - \\pmb{\\mu}^{(d)}}{\\pmb{\\sigma}^{(d)}}$.\n",
    "2. Find data covariance matrix, $\\mathbf{S} = \\mathbf{X}\\mathbf{X}^T$.\n",
    "3. Find $M$ orthonormal basis vectors, $\\mathbf{B}_{D \\times M}$ of eigen vectors with highest eigen values of $\\mathbf{S}$. \n",
    "4. Reconstruced data, $\\mathbf{\\tilde{X}}_* = \\Pi_u(\\mathbf{X}) = \\mathbf{B}\\mathbf{B}^T\\mathbf{X}_*$"
   ]
  },
  {
   "cell_type": "code",
   "execution_count": 1,
   "metadata": {},
   "outputs": [],
   "source": [
    "import scipy.io as sio\n",
    "import numpy as np\n",
    "import matplotlib.pyplot as plt"
   ]
  },
  {
   "cell_type": "code",
   "execution_count": 2,
   "metadata": {},
   "outputs": [
    {
     "name": "stdout",
     "output_type": "stream",
     "text": [
      "Number of data vectors, N =  70000\n",
      "Dimension of data vector, D =  784\n"
     ]
    }
   ],
   "source": [
    "# Load data\n",
    "mnist = sio.loadmat('mnist-original.mat')\n",
    "X = mnist['data']\n",
    "y = mnist['label']\n",
    "D, N = X.shape\n",
    "print(\"Number of data vectors, N = \", N)\n",
    "print(\"Dimension of data vector, D = \", D)"
   ]
  },
  {
   "cell_type": "code",
   "execution_count": 3,
   "metadata": {},
   "outputs": [
    {
     "data": {
      "image/png": "[encoded data removed]",
      "text/plain": [
       "<Figure size 432x432 with 1 Axes>"
      ]
     },
     "metadata": {
      "needs_background": "light"
     },
     "output_type": "display_data"
    }
   ],
   "source": [
    "n = np.random.randint(0, N+1)\n",
    "\n",
    "# Plot original and reconstructed image\n",
    "plt.figure(figsize=(6,6))\n",
    "plt.subplot(211)\n",
    "plt.imshow(X[:, n].reshape(28, 28), cmap='gray')\n",
    "plt.title('n = ' + str(n))\n",
    "pass"
   ]
  },
  {
   "cell_type": "markdown",
   "metadata": {},
   "source": [
    "#### Center and Normalize Data "
   ]
  },
  {
   "cell_type": "code",
   "execution_count": 4,
   "metadata": {},
   "outputs": [],
   "source": [
    "# Mean and Standard Deviation along each dimension \n",
    "mu = np.mean(X, axis=1).reshape(D, 1)\n",
    "std = np.std(X, axis=1).reshape(D, 1)\n",
    "\n",
    "# Replace zero standard deviation by one to avoid division by zero.\n",
    "std_ = std.copy()\n",
    "std_[std == 0] = 1.\n",
    "\n",
    "X_ = (X - mu) / std_"
   ]
  },
  {
   "cell_type": "markdown",
   "metadata": {},
   "source": [
    "#### Data Covariance Matrix and Eigen Problem"
   ]
  },
  {
   "cell_type": "code",
   "execution_count": 5,
   "metadata": {},
   "outputs": [],
   "source": [
    "S = X_ @ X_.T \n",
    "eigvals, eigvecs = np.linalg.eig(S)"
   ]
  },
  {
   "cell_type": "markdown",
   "metadata": {},
   "source": [
    "#### Principal Basis Vectors"
   ]
  },
  {
   "cell_type": "code",
   "execution_count": 6,
   "metadata": {},
   "outputs": [],
   "source": [
    "M = 392\n",
    "# Find M eigen vectors with highest eigen values\n",
    "B = eigvecs[:, np.argsort(eigvals)[::-1][:M]]"
   ]
  },
  {
   "cell_type": "markdown",
   "metadata": {},
   "source": [
    "#### Projection onto Principal Subspace"
   ]
  },
  {
   "cell_type": "code",
   "execution_count": 7,
   "metadata": {},
   "outputs": [
    {
     "name": "stdout",
     "output_type": "stream",
     "text": [
      "Dimension of projected data, M =  392\n"
     ]
    }
   ],
   "source": [
    "# Code\n",
    "Beta = B.T @ X_\n",
    "print(\"Dimension of projected data, M = \", Beta.shape[0])"
   ]
  },
  {
   "cell_type": "markdown",
   "metadata": {},
   "source": [
    "#### Reconstruction"
   ]
  },
  {
   "cell_type": "code",
   "execution_count": 8,
   "metadata": {},
   "outputs": [],
   "source": [
    "X_hat = B @ Beta"
   ]
  },
  {
   "cell_type": "code",
   "execution_count": 9,
   "metadata": {},
   "outputs": [
    {
     "name": "stdout",
     "output_type": "stream",
     "text": [
      "M =  392  n =  62404\n"
     ]
    },
    {
     "data": {
      "image/png": "[encoded data removed]",
      "text/plain": [
       "<Figure size 432x432 with 2 Axes>"
      ]
     },
     "metadata": {
      "needs_background": "light"
     },
     "output_type": "display_data"
    }
   ],
   "source": [
    "n = np.random.randint(0, N+1)\n",
    "\n",
    "# Plot original and reconstructed image\n",
    "plt.figure(figsize=(6,6))\n",
    "plt.subplot(121)\n",
    "plt.imshow(X_[:, n].reshape(28, 28), cmap='gray')\n",
    "plt.title('Normalized \\n Orginal Image')\n",
    "\n",
    "plt.subplot(122)\n",
    "plt.imshow(X_hat[:, n].reshape(28, 28), cmap='gray')\n",
    "plt.title('Reconstructed \\n Normalized Image')\n",
    "\n",
    "print(\"M = \", str(M) ,\" n = \", str(n))"
   ]
  },
  {
   "cell_type": "markdown",
   "metadata": {},
   "source": [
    "TODO\n",
    "\n",
    "  - PCA of High Deimensional Data"
   ]
  }
 ],
 "metadata": {
  "kernelspec": {
   "display_name": "Python 3",
   "language": "python",
   "name": "python3"
  },
  "language_info": {
   "codemirror_mode": {
    "name": "ipython",
    "version": 3
   },
   "file_extension": ".py",
   "mimetype": "text/x-python",
   "name": "python",
   "nbconvert_exporter": "python",
   "pygments_lexer": "ipython3",
   "version": "3.6.4"
  }
 },
 "nbformat": 4,
 "nbformat_minor": 4
}
